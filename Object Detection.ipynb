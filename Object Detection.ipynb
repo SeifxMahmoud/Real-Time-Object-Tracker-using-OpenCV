{
 "cells": [
  {
   "cell_type": "code",
   "execution_count": 2,
   "id": "e88e6755-0d77-4800-bd13-7331975f34fe",
   "metadata": {},
   "outputs": [],
   "source": [
    "import cv2\n",
    "import time\n"
   ]
  },
  {
   "cell_type": "code",
   "execution_count": 12,
   "id": "01abeea4-ca96-4fd3-8af0-f58ad45e42f7",
   "metadata": {},
   "outputs": [],
   "source": [
    "# 1 Here we open the web cam\n",
    "try:\n",
    "    cap = cv2.VideoCapture(0)\n",
    "except:\n",
    "    print('error openning camera')\n",
    "# 2: We read the first frame:\n",
    "try:\n",
    "    ret, frame = cap.read()\n",
    "except:\n",
    "    print('error showing frame')\n",
    "    \n",
    "# 3: Select ROI:\n",
    "bbox = cv2.selectROI(\"Select Object\", frame, fromCenter= False)\n",
    "cv2.destroyWindow(\"Select Object\")\n",
    "\n",
    "# 4: Initialize tracker\n",
    "tracker = cv2.TrackerCSRT_create() # CSRT Tracking\n",
    "tracker.init(frame, bbox)\n",
    "\n",
    "# 5: Tracking loop\n",
    "while True: # infinit loop to process each framee. \n",
    "    ret, frame = cap.read()\n",
    "\n",
    "    success, box = tracker.update(frame) # this updates the tracker with the position of the object.\n",
    "\n",
    "    if success: # if the object found, convert the coordinates to ints, draw a green rectangle and label tracking. \n",
    "        x, y, w, h = map(int, box)\n",
    "        cv2.rectangle(frame, (x, y), (x + w, y + h), (0, 255, 0), 2)\n",
    "    else: # if lost, update the frame reflecting the object was lost in Red. \n",
    "        cv2.putText(frame, \"Object Lost\", (50, 80), cv2.FONT_HERSHEY_SIMPLEX, 0.75, (0, 0, 255), 2)\n",
    "\n",
    "    cv2.imshow(\"Object Tracking\", frame)\n",
    "\n",
    "    key = cv2.waitKey(1) & 0xFF # exit when esc.\n",
    "    if key == 27:\n",
    "        break\n",
    "# Cleanup\n",
    "cap.release()\n",
    "cv2.destroyAllWindows()"
   ]
  },
  {
   "cell_type": "code",
   "execution_count": null,
   "id": "7ff7c794-731f-4ab9-82ac-7c988ce6c4a2",
   "metadata": {},
   "outputs": [],
   "source": []
  }
 ],
 "metadata": {
  "kernelspec": {
   "display_name": "Python (tf_env)",
   "language": "python",
   "name": "tf_env"
  },
  "language_info": {
   "codemirror_mode": {
    "name": "ipython",
    "version": 3
   },
   "file_extension": ".py",
   "mimetype": "text/x-python",
   "name": "python",
   "nbconvert_exporter": "python",
   "pygments_lexer": "ipython3",
   "version": "3.8.20"
  }
 },
 "nbformat": 4,
 "nbformat_minor": 5
}
